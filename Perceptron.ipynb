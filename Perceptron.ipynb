{
  "metadata": {
    "kernelspec": {
      "name": "python",
      "display_name": "Python (Pyodide)",
      "language": "python"
    },
    "language_info": {
      "codemirror_mode": {
        "name": "python",
        "version": 3
      },
      "file_extension": ".py",
      "mimetype": "text/x-python",
      "name": "python",
      "nbconvert_exporter": "python",
      "pygments_lexer": "ipython3",
      "version": "3.8"
    }
  },
  "nbformat_minor": 4,
  "nbformat": 4,
  "cells": [
    {
      "cell_type": "code",
      "source": "import numpy as np",
      "metadata": {
        "trusted": true
      },
      "outputs": [],
      "execution_count": 1
    },
    {
      "cell_type": "code",
      "source": "# Sigmoid activation function\ndef sigmoid(x):\n    return 1 / (1 + np.exp(-x))",
      "metadata": {
        "trusted": true
      },
      "outputs": [],
      "execution_count": 2
    },
    {
      "cell_type": "code",
      "source": "# Derivative of the sigmoid function for backpropagation\ndef sigmoid_derivative(x):\n    return x * (1 - x)",
      "metadata": {
        "trusted": true
      },
      "outputs": [],
      "execution_count": 3
    },
    {
      "cell_type": "code",
      "source": "# Perceptron class\nclass Perceptron:\n    def __init__(self, input_size, learning_rate=0.1, epochs=10000):\n        self.weights = np.random.rand(input_size)  # Initialize random weights\n        self.bias = np.random.rand(1)  # Initialize bias\n        self.learning_rate = learning_rate\n        self.epochs = epochs\n\n    def predict(self, inputs):\n        weighted_sum = np.dot(inputs, self.weights) + self.bias\n        return sigmoid(weighted_sum)\n\n    def train(self, training_inputs, labels):\n        for epoch in range(self.epochs):\n            for inputs, label in zip(training_inputs, labels):\n                # Forward pass\n                prediction = self.predict(inputs)\n\n                # Calculate the error\n                error = label - prediction\n\n                # Backpropagation (gradient descent)\n                adjustments = error * sigmoid_derivative(prediction)\n\n                # Update weights and bias\n                self.weights += self.learning_rate * inputs * adjustments\n                self.bias += self.learning_rate * adjustments",
      "metadata": {
        "trusted": true
      },
      "outputs": [],
      "execution_count": 4
    },
    {
      "cell_type": "code",
      "source": "# Training data for AND and OR gates\ninputs = np.array([[0, 0], [0, 1], [1, 0], [1, 1]])\n\n# AND gate labels\nand_labels = np.array([0, 0, 0, 1])\n\n# OR gate labels\nor_labels = np.array([0, 1, 1, 1])",
      "metadata": {
        "trusted": true
      },
      "outputs": [],
      "execution_count": 5
    },
    {
      "cell_type": "code",
      "source": "# Initialize perceptron for AND gate\nand_perceptron = Perceptron(input_size=2)\n\n# Train the perceptron with AND gate data\nprint(\"Training for AND gate...\")\nand_perceptron.train(inputs, and_labels)\n\n# Predictions for AND gate\nprint(\"\\nAND Gate Results:\")\nfor i in inputs:\n    print(f\"Input: {i}, Output: {and_perceptron.predict(i)}\")",
      "metadata": {
        "trusted": true
      },
      "outputs": [
        {
          "name": "stdout",
          "text": "Training for AND gate...\n\nAND Gate Results:\nInput: [0 0], Output: [0.00024524]\nInput: [0 1], Output: [0.05559116]\nInput: [1 0], Output: [0.05561028]\nInput: [1 1], Output: [0.93390753]\n",
          "output_type": "stream"
        }
      ],
      "execution_count": 6
    },
    {
      "cell_type": "code",
      "source": "# Initialize perceptron for OR gate\nor_perceptron = Perceptron(input_size=2)\n\n# Train the perceptron with OR gate data\nprint(\"\\nTraining for OR gate...\")\nor_perceptron.train(inputs, or_labels)\n\n# Predictions for OR gate\nprint(\"\\nOR Gate Results:\")\nfor i in inputs:\n    print(f\"Input: {i}, Output: {or_perceptron.predict(i)}\")",
      "metadata": {
        "trusted": true
      },
      "outputs": [
        {
          "name": "stdout",
          "text": "\nTraining for OR gate...\n\nOR Gate Results:\nInput: [0 0], Output: [0.05483448]\nInput: [0 1], Output: [0.96576205]\nInput: [1 0], Output: [0.96575728]\nInput: [1 1], Output: [0.99992708]\n",
          "output_type": "stream"
        }
      ],
      "execution_count": 7
    },
    {
      "cell_type": "code",
      "source": "",
      "metadata": {
        "trusted": true
      },
      "outputs": [],
      "execution_count": null
    }
  ]
}